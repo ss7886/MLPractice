{
 "cells": [
  {
   "attachments": {},
   "cell_type": "markdown",
   "metadata": {},
   "source": [
    "# Predicting NBA Salaries using a Neural Network"
   ]
  },
  {
   "attachments": {},
   "cell_type": "markdown",
   "metadata": {},
   "source": [
    "Stats Collected:\n",
    "- Age\n",
    "- Draft Position\n",
    "- Games Started\n",
    "- Games Played\n",
    "- Minutes per Game\n",
    "- Points per Game\n",
    "- Field Goal Percentage\n",
    "- 3-Point Percentage\n",
    "- Free Throw Percentage\n",
    "- Offensive Rebounds per Game\n",
    "- Defensive Rebounds per Game\n",
    "- Assists per Game\n",
    "- Blocks per Game\n",
    "- Steals per Game\n",
    "- Turnovers per Game"
   ]
  },
  {
   "cell_type": "code",
   "execution_count": 74,
   "metadata": {},
   "outputs": [],
   "source": [
    "import sys\n",
    "sys.path.append(\"..\")\n",
    "import numpy as np\n",
    "import matplotlib.pyplot as plt\n",
    "from models.nn import NeuralNetwork\n",
    "import random"
   ]
  },
  {
   "attachments": {},
   "cell_type": "markdown",
   "metadata": {},
   "source": [
    "Reading Data from CSV"
   ]
  },
  {
   "cell_type": "code",
   "execution_count": 75,
   "metadata": {},
   "outputs": [],
   "source": [
    "data_file = open(\"NBA Player Stats - 3.csv\")\n",
    "data_file.readline()\n",
    "\n",
    "player_data = []\n",
    "for line in data_file:\n",
    "    data = line.split(\",\")\n",
    "    for i in range(2, len(data)):\n",
    "        data[i] = float(data[i])\n",
    "    player = (data[0:2], np.array(data[2:-1]), np.array(data[-1]))\n",
    "    player_data.append(player)"
   ]
  },
  {
   "attachments": {},
   "cell_type": "markdown",
   "metadata": {},
   "source": [
    "Normalizing data"
   ]
  },
  {
   "cell_type": "code",
   "execution_count": 76,
   "metadata": {},
   "outputs": [],
   "source": [
    "min_vals = player_data[0][1].copy()\n",
    "max_vals = player_data[0][1].copy()\n",
    "\n",
    "\n",
    "for player in player_data:\n",
    "    for i in range(len(player[1])):\n",
    "        if player[1][i] < min_vals[i]:\n",
    "            min_vals[i] = player[1][i]\n",
    "        if player[1][i] > max_vals[i]:\n",
    "            max_vals[i] = player[1][i]\n",
    "\n",
    "range_vals = [max_vals[i] - min_vals[i] for i in range(len(min_vals))]\n",
    "\n",
    "for player in player_data:\n",
    "    for i in range(len(player[1])):\n",
    "        player[1][i] = 2 * (player[1][i] - min_vals[i] - range_vals[i] / 2) / range_vals[i]\n"
   ]
  },
  {
   "attachments": {},
   "cell_type": "markdown",
   "metadata": {},
   "source": [
    "Shuffling players and dividing into training and testing sets"
   ]
  },
  {
   "cell_type": "code",
   "execution_count": 77,
   "metadata": {},
   "outputs": [],
   "source": [
    "random.shuffle(player_data)\n",
    "\n",
    "train_percent = 0.8\n",
    "train_cutoff = int(len(player_data) * train_percent)\n",
    "train_data = player_data[0:train_cutoff]\n",
    "test_data = player_data[train_cutoff:]\n",
    "\n",
    "train_names = [player[0] for player in train_data]\n",
    "train_input = [player[1] for player in train_data]\n",
    "train_salary = [player[2] for player in train_data]\n",
    "test_names = [player[0] for player in test_data]\n",
    "test_input = [player[1] for player in test_data]\n",
    "test_salary = [player[2] for player in test_data]"
   ]
  },
  {
   "cell_type": "code",
   "execution_count": 78,
   "metadata": {},
   "outputs": [],
   "source": [
    "def loss(network, d_input, d_output):\n",
    "    assert len(d_input) == len(d_output)\n",
    "    predictions = network.predict(d_input)\n",
    "    n = len(d_input)\n",
    "    loss = 0\n",
    "    for i in range(n):\n",
    "        loss += (predictions[i] - d_output[i]) ** 2\n",
    "    return loss / n"
   ]
  },
  {
   "attachments": {},
   "cell_type": "markdown",
   "metadata": {},
   "source": [
    "Initialization"
   ]
  },
  {
   "cell_type": "code",
   "execution_count": 79,
   "metadata": {},
   "outputs": [
    {
     "name": "stdout",
     "output_type": "stream",
     "text": [
      "initial training loss 471.87165711785\n",
      "initial testing loss 468.1811817403595\n"
     ]
    }
   ],
   "source": [
    "network = NeuralNetwork(input_dim=len(train_input[0]), hidden_layers=4, layer_sizes=[30, 30, 30, 30])\n",
    "\n",
    "print(\"initial training loss\", loss(network, train_input, train_salary)[0])\n",
    "print(\"initial testing loss\", loss(network, test_input, test_salary)[0])"
   ]
  },
  {
   "attachments": {},
   "cell_type": "markdown",
   "metadata": {},
   "source": [
    "Training"
   ]
  },
  {
   "cell_type": "code",
   "execution_count": 80,
   "metadata": {},
   "outputs": [
    {
     "name": "stdout",
     "output_type": "stream",
     "text": [
      "training loss 44.31367521357954\n",
      "testing loss 52.58996119242079\n"
     ]
    },
    {
     "data": {
      "text/plain": [
       "<matplotlib.legend.Legend at 0x1cb92a8c8b0>"
      ]
     },
     "execution_count": 80,
     "metadata": {},
     "output_type": "execute_result"
    },
    {
     "data": {
      "image/png": "[encoded data removed]",
      "text/plain": [
       "<Figure size 640x480 with 1 Axes>"
      ]
     },
     "metadata": {},
     "output_type": "display_data"
    }
   ],
   "source": [
    "rates = (np.array([0.005, 0.004, 0.003, 0.002, 0.001]), np.array([0.001, 0.0008, 0.0006, 0.0004, 0.0002]))\n",
    "\n",
    "rounds = 72\n",
    "train_loss = []\n",
    "test_loss = []\n",
    "\n",
    "for i in range(int(rounds / 4)):\n",
    "    network.train(train_input, train_salary, 2 * rates[0], 2 * rates[1])\n",
    "    train_loss.append(loss(network, train_input, train_salary))\n",
    "    test_loss.append(loss(network, test_input, test_salary))\n",
    "\n",
    "for i in range(3 * int(rounds / 4)):\n",
    "    network.train(train_input, train_salary, rates[0], rates[1])\n",
    "    train_loss.append(loss(network, train_input, train_salary))\n",
    "    test_loss.append(loss(network, test_input, test_salary))\n",
    "\n",
    "print(\"training loss\", train_loss[-1][0])\n",
    "print(\"testing loss\", test_loss[-1][0])\n",
    "\n",
    "plt.plot(range(rounds), train_loss, label=\"train\")\n",
    "plt.plot(range(rounds), test_loss, label=\"test\")\n",
    "plt.legend()"
   ]
  },
  {
   "attachments": {},
   "cell_type": "markdown",
   "metadata": {},
   "source": [
    "Showing predictions for testing dataset"
   ]
  },
  {
   "cell_type": "code",
   "execution_count": 81,
   "metadata": {},
   "outputs": [
    {
     "name": "stdout",
     "output_type": "stream",
     "text": [
      "Testing Data Set\n",
      "Killian Hayes, Pistons (0.4):\n",
      "\t predicted salary: 7.8, actual salary: 7.4\n",
      "Malik Beasley, Lakers (-10.3):\n",
      "\t predicted salary: 6.2, actual salary: 16.5\n",
      "Jamal Murray, Nuggets (-11.7):\n",
      "\t predicted salary: 22.1, actual salary: 33.8\n",
      "Jaden McDaniels, Twolves (3.9):\n",
      "\t predicted salary: 7.8, actual salary: 3.9\n",
      "Kentavious Caldwell-Pope, Nuggets (-2.1):\n",
      "\t predicted salary: 12.6, actual salary: 14.7\n",
      "Jevon Carter, Bucks (3.8):\n",
      "\t predicted salary: 6.0, actual salary: 2.2\n",
      "Jarred Vanderbilt, Lakers (1.8):\n",
      "\t predicted salary: 6.5, actual salary: 4.7\n",
      "Naz Reid, Twolves (5.1):\n",
      "\t predicted salary: 7.0, actual salary: 1.9\n",
      "Saddiq Bey, Pistons (1.9):\n",
      "\t predicted salary: 6.4, actual salary: 4.5\n",
      "Bojan Bogdanovic, Pistons (9.9):\n",
      "\t predicted salary: 29.9, actual salary: 20.0\n",
      "Grayson Allen, Bucks (0.5):\n",
      "\t predicted salary: 9.0, actual salary: 8.5\n",
      "Steph Curry, Warriors (-5.3):\n",
      "\t predicted salary: 46.6, actual salary: 51.9\n",
      "Klay Thompson, Warriors (-16.9):\n",
      "\t predicted salary: 26.3, actual salary: 43.2\n",
      "Kyle Anderson, Twolves (3.1):\n",
      "\t predicted salary: 12.3, actual salary: 9.2\n",
      "Brook Lopez, Bucks (7.5):\n",
      "\t predicted salary: 21.4, actual salary: 13.9\n"
     ]
    }
   ],
   "source": [
    "predictions = network.predict(test_input)\n",
    "print(\"Testing Data Set\")\n",
    "for i in range(len(predictions)):\n",
    "    print(f\"{test_names[i][0]}, {test_names[i][1]} ({round(predictions[i][0] - test_salary[i], 1)}):\")\n",
    "    print(f\"\\t predicted salary: {round(predictions[i][0], 1)}, actual salary: {test_salary[i]}\")"
   ]
  },
  {
   "attachments": {},
   "cell_type": "markdown",
   "metadata": {},
   "source": [
    "Overfitting a small training set"
   ]
  },
  {
   "cell_type": "code",
   "execution_count": 85,
   "metadata": {},
   "outputs": [
    {
     "name": "stdout",
     "output_type": "stream",
     "text": [
      "training loss 1.161695223456511\n",
      "Testing Data Set\n",
      "Robert Williams, Celtics (0.3):\n",
      "\t predicted salary: 12.1, actual salary: 11.8\n",
      "Grant Williams, Celtics (-0.4):\n",
      "\t predicted salary: 3.9, actual salary: 4.3\n",
      "Khris Middleton, Bucks (-0.1):\n",
      "\t predicted salary: 40.3, actual salary: 40.4\n",
      "Rui Hachimura, Lakers (-0.4):\n",
      "\t predicted salary: 5.9, actual salary: 6.3\n",
      "Josh Hart, Knicks (-0.3):\n",
      "\t predicted salary: 12.7, actual salary: 13.0\n",
      "Cory Joseph, Pistons (-0.4):\n",
      "\t predicted salary: 4.7, actual salary: 5.1\n",
      "Al Horford, Celtics (0.9):\n",
      "\t predicted salary: 10.9, actual salary: 10.0\n",
      "Collin Sexton, Jazz (-0.5):\n",
      "\t predicted salary: 16.8, actual salary: 17.3\n",
      "Nikola Jokic, Nuggets (0.5):\n",
      "\t predicted salary: 47.4, actual salary: 46.9\n",
      "Derrick White, Celtics (-0.8):\n",
      "\t predicted salary: 17.3, actual salary: 18.1\n",
      "Draymond Green, Warriors (0.1):\n",
      "\t predicted salary: 27.7, actual salary: 27.6\n",
      "Jonathan Kuminga, Warriors (0.6):\n",
      "\t predicted salary: 6.6, actual salary: 6.0\n",
      "Dennis Schroeder, Lakers (3.7):\n",
      "\t predicted salary: 5.5, actual salary: 1.8\n",
      "Jaylen Brown, Celtics (-0.1):\n",
      "\t predicted salary: 30.6, actual salary: 30.7\n",
      "Pat Connaughton, Bucks (-1.8):\n",
      "\t predicted salary: 7.6, actual salary: 9.4\n",
      "D'Angelo Russell, Lakers (-0.3):\n",
      "\t predicted salary: 31.1, actual salary: 31.4\n",
      "Austin Rivers, Twolves (1.6):\n",
      "\t predicted salary: 3.4, actual salary: 1.8\n",
      "Mike Conley, Twolves (-1.0):\n",
      "\t predicted salary: 23.4, actual salary: 24.4\n",
      "Jeff Green, Nuggets (-0.0):\n",
      "\t predicted salary: 4.5, actual salary: 4.5\n",
      "Talen Horton-Tucker, Jazz (0.2):\n",
      "\t predicted salary: 11.2, actual salary: 11.0\n"
     ]
    },
    {
     "data": {
      "image/png": "[encoded data removed]",
      "text/plain": [
       "<Figure size 640x480 with 1 Axes>"
      ]
     },
     "metadata": {},
     "output_type": "display_data"
    }
   ],
   "source": [
    "network = NeuralNetwork(input_dim=len(train_input[0]), hidden_layers=5, layer_sizes=[30, 30, 30, 30, 30])\n",
    "rates = (np.array([0.02, 0.01, 0.07, 0.004, 0.002, 0.001]), np.array([0.002, 0.001, 0.0008, 0.0006, 0.0004, 0.0002]))\n",
    "\n",
    "rounds = 8\n",
    "eras = 10\n",
    "train_small_loss = []\n",
    "test_loss = []\n",
    "num = 20\n",
    "mult = 0.8\n",
    "\n",
    "for i in range(eras):\n",
    "    for j in range(rounds):\n",
    "        network.train(train_input[0:num], train_salary[0:num], mult * rates[0], mult * rates[1])\n",
    "        train_small_loss.append(loss(network, train_input[0:num], train_salary[0:num]))\n",
    "        test_loss.append(loss(network, test_input, test_salary))\n",
    "    mult *= 0.80\n",
    "\n",
    "for i in range(3 * eras):\n",
    "    for j in range(3 * rounds):\n",
    "        network.train(train_input[0:num], train_salary[0:num], mult * rates[0], mult * rates[1])\n",
    "        train_small_loss.append(loss(network, train_input[0:num], train_salary[0:num]))\n",
    "        test_loss.append(loss(network, test_input, test_salary))\n",
    "    mult *= .98\n",
    "\n",
    "# mult *= 1.5\n",
    "\n",
    "\n",
    "print(\"training loss\", train_small_loss[-1][0])\n",
    "\n",
    "plt.plot(range(len(train_small_loss)), train_small_loss, label=\"train\")\n",
    "plt.plot(range(len(test_loss)), test_loss, label=\"test\")\n",
    "plt.yscale(\"log\")\n",
    "plt.legend()\n",
    "\n",
    "predictions = network.predict(train_input[0:num])\n",
    "print(\"Testing Data Set\")\n",
    "for i in range(num):\n",
    "    print(f\"{train_names[i][0]}, {train_names[i][1]} ({round(predictions[i][0] - train_salary[i], 1)}):\")\n",
    "    print(f\"\\t predicted salary: {round(predictions[i][0], 1)}, actual salary: {train_salary[i]}\")"
   ]
  }
 ],
 "metadata": {
  "kernelspec": {
   "display_name": "base",
   "language": "python",
   "name": "python3"
  },
  "language_info": {
   "codemirror_mode": {
    "name": "ipython",
    "version": 3
   },
   "file_extension": ".py",
   "mimetype": "text/x-python",
   "name": "python",
   "nbconvert_exporter": "python",
   "pygments_lexer": "ipython3",
   "version": "3.9.12"
  },
  "orig_nbformat": 4
 },
 "nbformat": 4,
 "nbformat_minor": 2
}
