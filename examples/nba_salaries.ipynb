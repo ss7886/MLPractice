{
 "cells": [
  {
   "attachments": {},
   "cell_type": "markdown",
   "metadata": {},
   "source": [
    "# Predicting NBA Salaries using a Neural Network"
   ]
  },
  {
   "attachments": {},
   "cell_type": "markdown",
   "metadata": {},
   "source": [
    "Stats Collected:\n",
    "- Age\n",
    "- Draft Position\n",
    "- Games Started\n",
    "- Games Played\n",
    "- Minutes per Game\n",
    "- Points per Game\n",
    "- Field Goal Percentage\n",
    "- 3-Point Percentage\n",
    "- Free Throw Percentage\n",
    "- Offensive Rebounds per Game\n",
    "- Defensive Rebounds per Game\n",
    "- Assists per Game\n",
    "- Blocks per Game\n",
    "- Steals per Game\n",
    "- Turnovers per Game"
   ]
  },
  {
   "cell_type": "code",
   "execution_count": 163,
   "metadata": {},
   "outputs": [],
   "source": [
    "import sys\n",
    "sys.path.append(\"..\")\n",
    "import numpy as np\n",
    "import matplotlib.pyplot as plt\n",
    "from models.nn import NeuralNetwork\n",
    "import random"
   ]
  },
  {
   "cell_type": "code",
   "execution_count": 164,
   "metadata": {},
   "outputs": [],
   "source": [
    "data_file = open(\"NBA Player Stats - 2.csv\")\n",
    "data_file.readline()\n",
    "\n",
    "player_data = []\n",
    "for line in data_file:\n",
    "    data = line.split(\",\")\n",
    "    for i in range(2, len(data)):\n",
    "        data[i] = float(data[i])\n",
    "    # player = (data[0:2], np.array(data[2:-1]), np.array(data[-1]))\n",
    "    # player = (data[0:2], np.array(data[2:3] + data[4:-1]), np.array(data[-1]))\n",
    "    player = (data[0:2], np.array(data[4:-1]), np.array(data[-1]))\n",
    "    player_data.append(player)"
   ]
  },
  {
   "cell_type": "code",
   "execution_count": 165,
   "metadata": {},
   "outputs": [],
   "source": [
    "random.shuffle(player_data)\n",
    "\n",
    "train_percent = 0.8\n",
    "train_cutoff = int(len(player_data) * train_percent)\n",
    "train_data = player_data[0:train_cutoff]\n",
    "test_data = player_data[train_cutoff:]\n",
    "\n",
    "train_names = [player[0] for player in train_data]\n",
    "train_input = [player[1] for player in train_data]\n",
    "train_salary = [player[2] for player in train_data]\n",
    "test_names = [player[0] for player in test_data]\n",
    "test_input = [player[1] for player in test_data]\n",
    "test_salary = [player[2] for player in test_data]"
   ]
  },
  {
   "cell_type": "code",
   "execution_count": 166,
   "metadata": {},
   "outputs": [],
   "source": [
    "def loss(network, d_input, d_output):\n",
    "    assert len(d_input) == len(d_output)\n",
    "    predictions = network.predict(d_input)\n",
    "    n = len(d_input)\n",
    "    loss = 0\n",
    "    for i in range(n):\n",
    "        loss += (predictions[i] - d_output[i]) ** 2\n",
    "    return loss / n"
   ]
  },
  {
   "cell_type": "code",
   "execution_count": 167,
   "metadata": {},
   "outputs": [
    {
     "name": "stdout",
     "output_type": "stream",
     "text": [
      "initial training loss 446.03667844358006\n",
      "initial testing loss 318.54357810447306\n"
     ]
    }
   ],
   "source": [
    "network = NeuralNetwork(input_dim=len(train_input[0]), hidden_layers=4, layer_sizes=[30, 30, 30, 30])\n",
    "\n",
    "print(\"initial training loss\", loss(network, train_input, train_salary)[0])\n",
    "print(\"initial testing loss\", loss(network, test_input, test_salary)[0])"
   ]
  },
  {
   "cell_type": "code",
   "execution_count": 168,
   "metadata": {},
   "outputs": [
    {
     "name": "stdout",
     "output_type": "stream",
     "text": [
      "training loss 111.99885384745538\n",
      "testing loss 56.83467944909228\n"
     ]
    },
    {
     "data": {
      "text/plain": [
       "<matplotlib.legend.Legend at 0x1bca265e1c0>"
      ]
     },
     "execution_count": 168,
     "metadata": {},
     "output_type": "execute_result"
    },
    {
     "data": {
      "image/png": "[encoded data removed]",
      "text/plain": [
       "<Figure size 640x480 with 1 Axes>"
      ]
     },
     "metadata": {},
     "output_type": "display_data"
    }
   ],
   "source": [
    "rates = (np.array([0.0005, 0.0004, 0.0003, 0.0002, 0.0001]), np.array([0.0001, 0.00008, 0.00006, 0.00004, 0.00002]))\n",
    "\n",
    "rounds = 80\n",
    "train_loss = []\n",
    "test_loss = []\n",
    "\n",
    "for i in range(int(rounds / 2)):\n",
    "    network.train(train_input, train_salary, 2 * rates[0], 2 * rates[1])\n",
    "    train_loss.append(loss(network, train_input, train_salary))\n",
    "    test_loss.append(loss(network, test_input, test_salary))\n",
    "\n",
    "for i in range(int(rounds / 2)):\n",
    "    network.train(train_input, train_salary, rates[0], rates[1])\n",
    "    train_loss.append(loss(network, train_input, train_salary))\n",
    "    test_loss.append(loss(network, test_input, test_salary))\n",
    "\n",
    "print(\"training loss\", train_loss[-1][0])\n",
    "print(\"testing loss\", test_loss[-1][0])\n",
    "\n",
    "plt.plot(range(rounds), train_loss, label=\"train\")\n",
    "plt.plot(range(rounds), test_loss, label=\"test\")\n",
    "plt.legend()"
   ]
  },
  {
   "cell_type": "code",
   "execution_count": 169,
   "metadata": {},
   "outputs": [
    {
     "name": "stdout",
     "output_type": "stream",
     "text": [
      "Testing Data Set\n",
      "Rudy Gay, Jazz:\n",
      "\t predicted salary: 2.1, actual salary: 6.5, diff: -4.4\n",
      "Grayson Allen, Bucks:\n",
      "\t predicted salary: 19.9, actual salary: 8.5, diff: 11.4\n",
      "Derrick White, Celtics:\n",
      "\t predicted salary: 19.9, actual salary: 18.1, diff: 1.8\n",
      "Lauri Markannen, Jazz:\n",
      "\t predicted salary: 26.3, actual salary: 17.0, diff: 9.3\n",
      "Bojan Bogdanovic, Pistons:\n",
      "\t predicted salary: 23.4, actual salary: 20.0, diff: 3.4\n",
      "Aaron Gordon, Nuggets:\n",
      "\t predicted salary: 22.5, actual salary: 21.3, diff: 1.2\n",
      "Jordan Clarkson, Jazz:\n",
      "\t predicted salary: 23.6, actual salary: 14.3, diff: 9.3\n",
      "Jamal Murray, Nuggets:\n",
      "\t predicted salary: 24.1, actual salary: 33.8, diff: -9.7\n",
      "Cory Joseph, Pistons:\n",
      "\t predicted salary: 3.0, actual salary: 5.1, diff: -2.1\n",
      "Kyle Anderson, Twolves:\n",
      "\t predicted salary: 14.7, actual salary: 9.2, diff: 5.5\n",
      "Kelly Olynyk, Jazz:\n",
      "\t predicted salary: 21.1, actual salary: 12.8, diff: 8.3\n",
      "D'Angelo Russell, Lakers:\n",
      "\t predicted salary: 24.0, actual salary: 31.4, diff: -7.4\n",
      "Isaiah Stewart, Pistons:\n",
      "\t predicted salary: 17.3, actual salary: 5.2, diff: 12.1\n"
     ]
    }
   ],
   "source": [
    "predictions = network.predict(test_input)\n",
    "print(\"Testing Data Set\")\n",
    "for i in range(len(predictions)):\n",
    "    print(f\"{test_names[i][0]}, {test_names[i][1]}:\")\n",
    "    print(f\"\\t predicted salary: {round(predictions[i][0], 1)}, actual salary: {test_salary[i]}, diff: {round(predictions[i][0] - test_salary[i], 1)}\")"
   ]
  }
 ],
 "metadata": {
  "kernelspec": {
   "display_name": "base",
   "language": "python",
   "name": "python3"
  },
  "language_info": {
   "codemirror_mode": {
    "name": "ipython",
    "version": 3
   },
   "file_extension": ".py",
   "mimetype": "text/x-python",
   "name": "python",
   "nbconvert_exporter": "python",
   "pygments_lexer": "ipython3",
   "version": "3.9.12"
  },
  "orig_nbformat": 4
 },
 "nbformat": 4,
 "nbformat_minor": 2
}
