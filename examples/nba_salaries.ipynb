{
 "cells": [
  {
   "attachments": {},
   "cell_type": "markdown",
   "metadata": {},
   "source": [
    "# Predicting NBA Salaries using a Neural Network"
   ]
  },
  {
   "attachments": {},
   "cell_type": "markdown",
   "metadata": {},
   "source": [
    "Stats Collected:\n",
    "- Age\n",
    "- Draft Position\n",
    "- Games Started\n",
    "- Games Played\n",
    "- Minutes per Game\n",
    "- Points per Game\n",
    "- Field Goal Percentage\n",
    "- 3-Point Percentage\n",
    "- Free Throw Percentage\n",
    "- Offensive Rebounds per Game\n",
    "- Defensive Rebounds per Game\n",
    "- Assists per Game\n",
    "- Blocks per Game\n",
    "- Steals per Game\n",
    "- Turnovers per Game"
   ]
  },
  {
   "cell_type": "code",
   "execution_count": 301,
   "metadata": {},
   "outputs": [],
   "source": [
    "import sys\n",
    "sys.path.append(\"..\")\n",
    "import numpy as np\n",
    "import matplotlib.pyplot as plt\n",
    "from models.nn import NeuralNetwork\n",
    "import random"
   ]
  },
  {
   "attachments": {},
   "cell_type": "markdown",
   "metadata": {},
   "source": [
    "Reading Data from CSV"
   ]
  },
  {
   "cell_type": "code",
   "execution_count": 302,
   "metadata": {},
   "outputs": [],
   "source": [
    "data_file = open(\"NBA Player Stats - 3.csv\")\n",
    "data_file.readline()\n",
    "\n",
    "player_data = []\n",
    "for line in data_file:\n",
    "    data = line.split(\",\")\n",
    "    for i in range(2, len(data)):\n",
    "        data[i] = float(data[i])\n",
    "    # player = (data[0:2], np.array(data[2:-1]), np.array(data[-1]))\n",
    "    # player = (data[0:2], np.array(data[2:3] + data[4:-1]), np.array(data[-1]))\n",
    "    player = (data[0:2], np.array(data[2:-1]), np.array(data[-1]))\n",
    "    player_data.append(player)"
   ]
  },
  {
   "attachments": {},
   "cell_type": "markdown",
   "metadata": {},
   "source": [
    "Normalizing data"
   ]
  },
  {
   "cell_type": "code",
   "execution_count": 303,
   "metadata": {},
   "outputs": [],
   "source": [
    "min_vals = player_data[0][1].copy()\n",
    "max_vals = player_data[0][1].copy()\n",
    "\n",
    "\n",
    "for player in player_data:\n",
    "    for i in range(len(player[1])):\n",
    "        if player[1][i] < min_vals[i]:\n",
    "            min_vals[i] = player[1][i]\n",
    "        if player[1][i] > max_vals[i]:\n",
    "            max_vals[i] = player[1][i]\n",
    "\n",
    "range_vals = [max_vals[i] - min_vals[i] for i in range(len(min_vals))]\n",
    "\n",
    "for player in player_data:\n",
    "    for i in range(len(player[1])):\n",
    "        player[1][i] = (player[1][i] - min_vals[i]) / range_vals[i]\n"
   ]
  },
  {
   "attachments": {},
   "cell_type": "markdown",
   "metadata": {},
   "source": [
    "Shuffling players and dividing into training and testing sets"
   ]
  },
  {
   "cell_type": "code",
   "execution_count": 304,
   "metadata": {},
   "outputs": [],
   "source": [
    "random.shuffle(player_data)\n",
    "\n",
    "train_percent = 0.8\n",
    "train_cutoff = int(len(player_data) * train_percent)\n",
    "train_data = player_data[0:train_cutoff]\n",
    "test_data = player_data[train_cutoff:]\n",
    "\n",
    "train_names = [player[0] for player in train_data]\n",
    "train_input = [player[1] for player in train_data]\n",
    "train_salary = [player[2] for player in train_data]\n",
    "test_names = [player[0] for player in test_data]\n",
    "test_input = [player[1] for player in test_data]\n",
    "test_salary = [player[2] for player in test_data]"
   ]
  },
  {
   "cell_type": "code",
   "execution_count": 305,
   "metadata": {},
   "outputs": [],
   "source": [
    "def loss(network, d_input, d_output):\n",
    "    assert len(d_input) == len(d_output)\n",
    "    predictions = network.predict(d_input)\n",
    "    n = len(d_input)\n",
    "    loss = 0\n",
    "    for i in range(n):\n",
    "        loss += (predictions[i] - d_output[i]) ** 2\n",
    "    return loss / n"
   ]
  },
  {
   "cell_type": "code",
   "execution_count": 306,
   "metadata": {},
   "outputs": [
    {
     "name": "stdout",
     "output_type": "stream",
     "text": [
      "initial training loss 506.6511968946949\n",
      "initial testing loss 332.95117241548456\n"
     ]
    }
   ],
   "source": [
    "network = NeuralNetwork(input_dim=len(train_input[0]), hidden_layers=4, layer_sizes=[30, 30, 30, 30])\n",
    "\n",
    "print(\"initial training loss\", loss(network, train_input, train_salary)[0])\n",
    "print(\"initial testing loss\", loss(network, test_input, test_salary)[0])"
   ]
  },
  {
   "cell_type": "code",
   "execution_count": 307,
   "metadata": {},
   "outputs": [
    {
     "name": "stdout",
     "output_type": "stream",
     "text": [
      "training loss 53.28177280255356\n",
      "testing loss 48.57491398975308\n"
     ]
    },
    {
     "data": {
      "text/plain": [
       "<matplotlib.legend.Legend at 0x1b4e4f69fd0>"
      ]
     },
     "execution_count": 307,
     "metadata": {},
     "output_type": "execute_result"
    },
    {
     "data": {
      "image/png": "[encoded data removed]",
      "text/plain": [
       "<Figure size 640x480 with 1 Axes>"
      ]
     },
     "metadata": {},
     "output_type": "display_data"
    }
   ],
   "source": [
    "rates = (np.array([0.005, 0.004, 0.003, 0.002, 0.001]), np.array([0.001, 0.0008, 0.0006, 0.0004, 0.0002]))\n",
    "\n",
    "rounds = 72\n",
    "train_loss = []\n",
    "test_loss = []\n",
    "\n",
    "for i in range(int(rounds / 4)):\n",
    "    network.train(train_input, train_salary, 2 * rates[0], 2 * rates[1])\n",
    "    train_loss.append(loss(network, train_input, train_salary))\n",
    "    test_loss.append(loss(network, test_input, test_salary))\n",
    "\n",
    "for i in range(3 * int(rounds / 4)):\n",
    "    network.train(train_input, train_salary, rates[0], rates[1])\n",
    "    train_loss.append(loss(network, train_input, train_salary))\n",
    "    test_loss.append(loss(network, test_input, test_salary))\n",
    "\n",
    "print(\"training loss\", train_loss[-1][0])\n",
    "print(\"testing loss\", test_loss[-1][0])\n",
    "\n",
    "plt.plot(range(rounds), train_loss, label=\"train\")\n",
    "plt.plot(range(rounds), test_loss, label=\"test\")\n",
    "plt.legend()"
   ]
  },
  {
   "cell_type": "code",
   "execution_count": 309,
   "metadata": {},
   "outputs": [
    {
     "name": "stdout",
     "output_type": "stream",
     "text": [
      "Testing Data Set\n",
      "Mitchell Robinson, Knicks (-3.3):\n",
      "\t predicted salary: 12.4, actual salary: 15.7\n",
      "Jaylen Brown, Celtics (4.7):\n",
      "\t predicted salary: 35.4, actual salary: 30.7\n",
      "Draymond Green, Warriors (-2.2):\n",
      "\t predicted salary: 25.4, actual salary: 27.6\n",
      "Josh Hart, Knicks (3.1):\n",
      "\t predicted salary: 16.1, actual salary: 13.0\n",
      "Kyle Anderson, Twolves (5.8):\n",
      "\t predicted salary: 15.0, actual salary: 9.2\n",
      "Jeff Green, Nuggets (6.5):\n",
      "\t predicted salary: 11.0, actual salary: 4.5\n",
      "Jevon Carter, Bucks (1.8):\n",
      "\t predicted salary: 4.0, actual salary: 2.2\n",
      "Kentavious Caldwell-Pope, Nuggets (-1.6):\n",
      "\t predicted salary: 13.1, actual salary: 14.7\n",
      "Bojan Bogdanovic, Pistons (7.6):\n",
      "\t predicted salary: 27.6, actual salary: 20.0\n",
      "Rui Hachimura, Lakers (1.9):\n",
      "\t predicted salary: 8.2, actual salary: 6.3\n",
      "Jalen Brunson, Knicks (0.6):\n",
      "\t predicted salary: 26.9, actual salary: 26.3\n",
      "Anthony Edwards, Twolves (17.8):\n",
      "\t predicted salary: 31.3, actual salary: 13.5\n",
      "Christian Braun, Nuggets (-0.7):\n",
      "\t predicted salary: 2.2, actual salary: 2.9\n",
      "Jayson Tatum, Celtics (5.6):\n",
      "\t predicted salary: 38.2, actual salary: 32.6\n",
      "Jordan Clarkson, Jazz (13.8):\n",
      "\t predicted salary: 28.1, actual salary: 14.3\n"
     ]
    }
   ],
   "source": [
    "predictions = network.predict(test_input)\n",
    "print(\"Testing Data Set\")\n",
    "for i in range(len(predictions)):\n",
    "    print(f\"{test_names[i][0]}, {test_names[i][1]} ({round(predictions[i][0] - test_salary[i], 1)}):\")\n",
    "    print(f\"\\t predicted salary: {round(predictions[i][0], 1)}, actual salary: {test_salary[i]}\")"
   ]
  }
 ],
 "metadata": {
  "kernelspec": {
   "display_name": "base",
   "language": "python",
   "name": "python3"
  },
  "language_info": {
   "codemirror_mode": {
    "name": "ipython",
    "version": 3
   },
   "file_extension": ".py",
   "mimetype": "text/x-python",
   "name": "python",
   "nbconvert_exporter": "python",
   "pygments_lexer": "ipython3",
   "version": "3.9.12"
  },
  "orig_nbformat": 4
 },
 "nbformat": 4,
 "nbformat_minor": 2
}
