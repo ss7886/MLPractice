{
 "cells": [
  {
   "attachments": {},
   "cell_type": "markdown",
   "metadata": {},
   "source": [
    "# Predicting NBA Salaries using a Neural Network"
   ]
  },
  {
   "attachments": {},
   "cell_type": "markdown",
   "metadata": {},
   "source": [
    "__Goal__: use a deep neural network (`models/nn.py`) to predict NBA players salaries. Dataset (`NBA Player Stats - 3.csv`) collects the following stats for 73 players from 9 teams.\n",
    "\n",
    "Stats Collected (from 2022-23 season):\n",
    "- Age\n",
    "- Draft Position\n",
    "- Games Started\n",
    "- Games Played\n",
    "- Minutes per Game\n",
    "- Points per Game\n",
    "- Field Goal Percentage\n",
    "- 3-Point Percentage\n",
    "- Free Throw Percentage\n",
    "- Offensive Rebounds per Game\n",
    "- Defensive Rebounds per Game\n",
    "- Assists per Game\n",
    "- Blocks per Game\n",
    "- Steals per Game\n",
    "- Turnovers per Game"
   ]
  },
  {
   "cell_type": "code",
   "execution_count": 169,
   "metadata": {},
   "outputs": [],
   "source": [
    "import sys\n",
    "import math\n",
    "sys.path.append(\"..\")\n",
    "import numpy as np\n",
    "import matplotlib.pyplot as plt\n",
    "from models.nn import NeuralNetwork\n",
    "import random"
   ]
  },
  {
   "attachments": {},
   "cell_type": "markdown",
   "metadata": {},
   "source": [
    "Reading Data from CSV (See `NBA Player Stats - 3.csv`)"
   ]
  },
  {
   "cell_type": "code",
   "execution_count": 170,
   "metadata": {},
   "outputs": [],
   "source": [
    "data_file = open(\"NBA Player Stats - 3.csv\")\n",
    "data_file.readline()\n",
    "\n",
    "player_data = []\n",
    "for line in data_file:\n",
    "    data = line.split(\",\")\n",
    "    for i in range(2, len(data)):\n",
    "        data[i] = float(data[i])\n",
    "    player = (data[0:2], np.array(data[2:-1]), np.array(data[-1]))\n",
    "    player_data.append(player)"
   ]
  },
  {
   "attachments": {},
   "cell_type": "markdown",
   "metadata": {},
   "source": [
    "Normalizing data"
   ]
  },
  {
   "cell_type": "code",
   "execution_count": 171,
   "metadata": {},
   "outputs": [],
   "source": [
    "min_vals = player_data[0][1].copy()\n",
    "max_vals = player_data[0][1].copy()\n",
    "\n",
    "\n",
    "for player in player_data:\n",
    "    for i in range(len(player[1])):\n",
    "        if player[1][i] < min_vals[i]:\n",
    "            min_vals[i] = player[1][i]\n",
    "        if player[1][i] > max_vals[i]:\n",
    "            max_vals[i] = player[1][i]\n",
    "\n",
    "range_vals = [max_vals[i] - min_vals[i] for i in range(len(min_vals))]\n",
    "\n",
    "for player in player_data:\n",
    "    for i in range(len(player[1])):\n",
    "        player[1][i] = 2 * (player[1][i] - min_vals[i] - range_vals[i] / 2) / range_vals[i]\n"
   ]
  },
  {
   "attachments": {},
   "cell_type": "markdown",
   "metadata": {},
   "source": [
    "Shuffling players and dividing into training and testing sets"
   ]
  },
  {
   "cell_type": "code",
   "execution_count": 172,
   "metadata": {},
   "outputs": [],
   "source": [
    "random.shuffle(player_data)\n",
    "\n",
    "train_percent = 0.8\n",
    "train_cutoff = int(len(player_data) * train_percent)\n",
    "train_data = player_data[0:train_cutoff]\n",
    "test_data = player_data[train_cutoff:]\n",
    "\n",
    "train_names = [player[0] for player in train_data]\n",
    "train_input = [player[1] for player in train_data]\n",
    "train_salary = [player[2] for player in train_data]\n",
    "test_names = [player[0] for player in test_data]\n",
    "test_input = [player[1] for player in test_data]\n",
    "test_salary = [player[2] for player in test_data]"
   ]
  },
  {
   "attachments": {},
   "cell_type": "markdown",
   "metadata": {},
   "source": [
    "Define loss function (for training graphs)"
   ]
  },
  {
   "cell_type": "code",
   "execution_count": 173,
   "metadata": {},
   "outputs": [],
   "source": [
    "def loss(network, d_input, d_output):\n",
    "    assert len(d_input) == len(d_output)\n",
    "    predictions = network.predict(d_input)\n",
    "    n = len(d_input)\n",
    "    loss = 0\n",
    "    for i in range(n):\n",
    "        loss += (predictions[i] - d_output[i]) ** 2\n",
    "    return math.sqrt(loss / n)"
   ]
  },
  {
   "attachments": {},
   "cell_type": "markdown",
   "metadata": {},
   "source": [
    "Initialization\n",
    "\n",
    "Uses four fully connected hidden layers with 30 neurons each."
   ]
  },
  {
   "cell_type": "code",
   "execution_count": 174,
   "metadata": {},
   "outputs": [
    {
     "name": "stdout",
     "output_type": "stream",
     "text": [
      "initial training loss 21.187750090999497\n",
      "initial testing loss 23.59182676405326\n"
     ]
    }
   ],
   "source": [
    "network = NeuralNetwork(input_dim=len(train_input[0]), hidden_layers=4, layer_sizes=[30, 30, 30, 30])\n",
    "\n",
    "print(\"initial training loss\", loss(network, train_input, train_salary))\n",
    "print(\"initial testing loss\", loss(network, test_input, test_salary))"
   ]
  },
  {
   "attachments": {},
   "cell_type": "markdown",
   "metadata": {},
   "source": [
    "Training"
   ]
  },
  {
   "cell_type": "code",
   "execution_count": 175,
   "metadata": {},
   "outputs": [
    {
     "name": "stdout",
     "output_type": "stream",
     "text": [
      "training loss 6.607551648779465\n",
      "testing loss 7.468414735835709\n"
     ]
    },
    {
     "data": {
      "text/plain": [
       "<matplotlib.legend.Legend at 0x1cb92c9a6a0>"
      ]
     },
     "execution_count": 175,
     "metadata": {},
     "output_type": "execute_result"
    },
    {
     "data": {
      "image/png": "[encoded data removed]",
      "text/plain": [
       "<Figure size 640x480 with 1 Axes>"
      ]
     },
     "metadata": {},
     "output_type": "display_data"
    }
   ],
   "source": [
    "rates = (np.array([0.005, 0.004, 0.003, 0.002, 0.001]), np.array([0.001, 0.0008, 0.0006, 0.0004, 0.0002]))\n",
    "\n",
    "rounds = 72\n",
    "train_loss = []\n",
    "test_loss = []\n",
    "\n",
    "for i in range(int(rounds / 4)):\n",
    "    network.train(train_input, train_salary, 2 * rates[0], 2 * rates[1])\n",
    "    train_loss.append(loss(network, train_input, train_salary))\n",
    "    test_loss.append(loss(network, test_input, test_salary))\n",
    "\n",
    "for i in range(3 * int(rounds / 4)):\n",
    "    network.train(train_input, train_salary, rates[0], rates[1])\n",
    "    train_loss.append(loss(network, train_input, train_salary))\n",
    "    test_loss.append(loss(network, test_input, test_salary))\n",
    "\n",
    "print(\"training loss\", train_loss[-1])\n",
    "print(\"testing loss\", test_loss[-1])\n",
    "\n",
    "plt.plot(range(rounds), train_loss, label=\"train\")\n",
    "plt.plot(range(rounds), test_loss, label=\"test\")\n",
    "plt.legend()"
   ]
  },
  {
   "attachments": {},
   "cell_type": "markdown",
   "metadata": {},
   "source": [
    "Showing predictions for testing dataset"
   ]
  },
  {
   "cell_type": "code",
   "execution_count": 176,
   "metadata": {},
   "outputs": [
    {
     "name": "stdout",
     "output_type": "stream",
     "text": [
      "Testing Data Set\n",
      "Kentavious Caldwell-Pope, Nuggets (-2.7):\n",
      "\t predicted salary: 12.0, actual salary: 14.7\n",
      "Jaylen Brown, Celtics (1.9):\n",
      "\t predicted salary: 32.6, actual salary: 30.7\n",
      "Michael Porter Jr, Nuggets (-21.3):\n",
      "\t predicted salary: 12.1, actual salary: 33.4\n",
      "Josh Hart, Knicks (-1.1):\n",
      "\t predicted salary: 11.9, actual salary: 13.0\n",
      "Jevon Carter, Bucks (4.0):\n",
      "\t predicted salary: 6.2, actual salary: 2.2\n",
      "Killian Hayes, Pistons (5.5):\n",
      "\t predicted salary: 12.9, actual salary: 7.4\n",
      "Jalen Brunson, Knicks (-3.3):\n",
      "\t predicted salary: 23.0, actual salary: 26.3\n",
      "Steph Curry, Warriors (-4.3):\n",
      "\t predicted salary: 47.6, actual salary: 51.9\n",
      "Jaden Ivey, Pistons (9.1):\n",
      "\t predicted salary: 16.7, actual salary: 7.6\n",
      "Pat Connaughton, Bucks (-2.8):\n",
      "\t predicted salary: 6.6, actual salary: 9.4\n",
      "Rudy Gay, Jazz (8.1):\n",
      "\t predicted salary: 14.6, actual salary: 6.5\n",
      "D'Angelo Russell, Lakers (-8.9):\n",
      "\t predicted salary: 22.5, actual salary: 31.4\n",
      "Donte DiVincenzo, Warriors (5.2):\n",
      "\t predicted salary: 9.9, actual salary: 4.7\n",
      "Jaden McDaniels, Twolves (2.8):\n",
      "\t predicted salary: 6.7, actual salary: 3.9\n",
      "Karl-Anthony Towns, Twolves (4.9):\n",
      "\t predicted salary: 40.9, actual salary: 36.0\n"
     ]
    }
   ],
   "source": [
    "predictions = network.predict(test_input)\n",
    "print(\"Testing Data Set\")\n",
    "for i in range(len(predictions)):\n",
    "    print(f\"{test_names[i][0]}, {test_names[i][1]} ({round(predictions[i][0] - test_salary[i], 1)}):\")\n",
    "    print(f\"\\t predicted salary: {round(predictions[i][0], 1)}, actual salary: {test_salary[i]}\")"
   ]
  },
  {
   "attachments": {},
   "cell_type": "markdown",
   "metadata": {},
   "source": [
    "Overfitting a small training set"
   ]
  },
  {
   "cell_type": "code",
   "execution_count": 180,
   "metadata": {},
   "outputs": [
    {
     "name": "stdout",
     "output_type": "stream",
     "text": [
      "training loss 0.5871372974846633\n",
      "testing loss 11.601429338026843\n",
      "Testing Data Set\n",
      "Anthony Davis, Lakers (0.2):\n",
      "\t predicted salary: 40.8, actual salary: 40.6\n",
      "Cory Joseph, Pistons (-0.1):\n",
      "\t predicted salary: 5.0, actual salary: 5.1\n",
      "Malik Beasley, Lakers (-0.3):\n",
      "\t predicted salary: 16.2, actual salary: 16.5\n",
      "Marcus Smart, Celtics (-0.2):\n",
      "\t predicted salary: 18.4, actual salary: 18.6\n",
      "Austin Rivers, Twolves (0.9):\n",
      "\t predicted salary: 2.7, actual salary: 1.8\n",
      "Immanuel Quickley, Knicks (-1.0):\n",
      "\t predicted salary: 3.2, actual salary: 4.2\n",
      "Dennis Schroeder, Lakers (1.1):\n",
      "\t predicted salary: 2.9, actual salary: 1.8\n",
      "Saddiq Bey, Pistons (1.3):\n",
      "\t predicted salary: 5.8, actual salary: 4.5\n",
      "Klay Thompson, Warriors (-0.8):\n",
      "\t predicted salary: 42.4, actual salary: 43.2\n",
      "Jordan Clarkson, Jazz (-0.2):\n",
      "\t predicted salary: 14.1, actual salary: 14.3\n",
      "Ochai Agbaji, Jazz (-0.5):\n",
      "\t predicted salary: 3.6, actual salary: 4.1\n",
      "Mitchell Robinson, Knicks (0.1):\n",
      "\t predicted salary: 15.8, actual salary: 15.7\n",
      "Khris Middleton, Bucks (-0.1):\n",
      "\t predicted salary: 40.3, actual salary: 40.4\n",
      "Isaiah Hartenstein, Knicks (-0.5):\n",
      "\t predicted salary: 7.7, actual salary: 8.2\n",
      "Lebron James, Lakers (0.2):\n",
      "\t predicted salary: 53.6, actual salary: 53.4\n",
      "Taurean Prince, Twolves (-0.2):\n",
      "\t predicted salary: 7.5, actual salary: 7.7\n",
      "Bruce Brown, Nuggets (0.4):\n",
      "\t predicted salary: 7.2, actual salary: 6.8\n",
      "Christian Braun, Nuggets (0.2):\n",
      "\t predicted salary: 3.1, actual salary: 2.9\n",
      "Naz Reid, Twolves (0.3):\n",
      "\t predicted salary: 2.2, actual salary: 1.9\n",
      "Bojan Bogdanovic, Pistons (0.6):\n",
      "\t predicted salary: 20.6, actual salary: 20.0\n"
     ]
    },
    {
     "data": {
      "image/png": "[encoded data removed]",
      "text/plain": [
       "<Figure size 640x480 with 1 Axes>"
      ]
     },
     "metadata": {},
     "output_type": "display_data"
    }
   ],
   "source": [
    "network = NeuralNetwork(input_dim=len(train_input[0]), hidden_layers=5, layer_sizes=[30, 30, 30, 30, 30])\n",
    "rates = (np.array([0.02, 0.01, 0.07, 0.004, 0.002, 0.001]), np.array([0.002, 0.001, 0.0008, 0.0006, 0.0004, 0.0002]))\n",
    "\n",
    "rounds = 10\n",
    "eras = 10\n",
    "train_small_loss = []\n",
    "test_loss = []\n",
    "num = 20\n",
    "mult = 0.8\n",
    "\n",
    "for i in range(eras):\n",
    "    for j in range(rounds):\n",
    "        network.train(train_input[0:num], train_salary[0:num], mult * rates[0], mult * rates[1])\n",
    "        train_small_loss.append(loss(network, train_input[0:num], train_salary[0:num]))\n",
    "        test_loss.append(loss(network, test_input, test_salary))\n",
    "    mult *= 0.80\n",
    "\n",
    "for i in range(3 * eras):\n",
    "    for j in range(3 * rounds):\n",
    "        network.train(train_input[0:num], train_salary[0:num], mult * rates[0], mult * rates[1])\n",
    "        train_small_loss.append(loss(network, train_input[0:num], train_salary[0:num]))\n",
    "        test_loss.append(loss(network, test_input, test_salary))\n",
    "    mult *= .98\n",
    "\n",
    "# mult *= 1.5\n",
    "\n",
    "\n",
    "print(\"training loss\", train_small_loss[-1])\n",
    "print(\"testing loss\", test_loss[-1])\n",
    "\n",
    "plt.plot(range(len(train_small_loss)), train_small_loss, label=\"train\")\n",
    "plt.plot(range(len(test_loss)), test_loss, label=\"test\")\n",
    "plt.yscale(\"log\")\n",
    "plt.legend()\n",
    "\n",
    "predictions = network.predict(train_input[0:num])\n",
    "print(\"Testing Data Set\")\n",
    "for i in range(num):\n",
    "    print(f\"{train_names[i][0]}, {train_names[i][1]} ({round(predictions[i][0] - train_salary[i], 1)}):\")\n",
    "    print(f\"\\t predicted salary: {round(predictions[i][0], 1)}, actual salary: {train_salary[i]}\")"
   ]
  }
 ],
 "metadata": {
  "kernelspec": {
   "display_name": "base",
   "language": "python",
   "name": "python3"
  },
  "language_info": {
   "codemirror_mode": {
    "name": "ipython",
    "version": 3
   },
   "file_extension": ".py",
   "mimetype": "text/x-python",
   "name": "python",
   "nbconvert_exporter": "python",
   "pygments_lexer": "ipython3",
   "version": "3.9.12"
  },
  "orig_nbformat": 4
 },
 "nbformat": 4,
 "nbformat_minor": 2
}
